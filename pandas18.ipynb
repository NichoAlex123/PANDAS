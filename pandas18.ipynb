{
 "cells": [
  {
   "cell_type": "code",
   "execution_count": 1,
   "id": "d3dbb9e9",
   "metadata": {},
   "outputs": [
    {
     "name": "stdout",
     "output_type": "stream",
     "text": [
      "2.3.3\n",
      "2.3.3\n"
     ]
    }
   ],
   "source": [
    "import pandas as pd\n",
    "import numpy as np\n",
    "\n",
    "print(pd.__version__)\n",
    "print(np.__version__)"
   ]
  },
  {
   "cell_type": "code",
   "execution_count": 2,
   "id": "534f3c36",
   "metadata": {},
   "outputs": [
    {
     "data": {
      "text/html": [
       "<div>\n",
       "<style scoped>\n",
       "    .dataframe tbody tr th:only-of-type {\n",
       "        vertical-align: middle;\n",
       "    }\n",
       "\n",
       "    .dataframe tbody tr th {\n",
       "        vertical-align: top;\n",
       "    }\n",
       "\n",
       "    .dataframe thead th {\n",
       "        text-align: right;\n",
       "    }\n",
       "</style>\n",
       "<table border=\"1\" class=\"dataframe\">\n",
       "  <thead>\n",
       "    <tr style=\"text-align: right;\">\n",
       "      <th></th>\n",
       "      <th>col1</th>\n",
       "      <th>col2</th>\n",
       "    </tr>\n",
       "  </thead>\n",
       "  <tbody>\n",
       "    <tr>\n",
       "      <th>0</th>\n",
       "      <td>1</td>\n",
       "      <td>5</td>\n",
       "    </tr>\n",
       "    <tr>\n",
       "      <th>1</th>\n",
       "      <td>2</td>\n",
       "      <td>6</td>\n",
       "    </tr>\n",
       "    <tr>\n",
       "      <th>2</th>\n",
       "      <td>3</td>\n",
       "      <td>7</td>\n",
       "    </tr>\n",
       "    <tr>\n",
       "      <th>3</th>\n",
       "      <td>4</td>\n",
       "      <td>8</td>\n",
       "    </tr>\n",
       "  </tbody>\n",
       "</table>\n",
       "</div>"
      ],
      "text/plain": [
       "   col1  col2\n",
       "0     1     5\n",
       "1     2     6\n",
       "2     3     7\n",
       "3     4     8"
      ]
     },
     "execution_count": 2,
     "metadata": {},
     "output_type": "execute_result"
    }
   ],
   "source": [
    "pd.DataFrame({'col1':[1, 2, 3, 4], \n",
    "              'col2':[5, 6, 7, 8]})"
   ]
  },
  {
   "cell_type": "code",
   "execution_count": 3,
   "id": "334c97a9",
   "metadata": {},
   "outputs": [
    {
     "data": {
      "text/plain": [
       "array([[15,  9, 12],\n",
       "       [ 4, 13, 11],\n",
       "       [ 4, 11, 19],\n",
       "       [ 9, 10,  1],\n",
       "       [ 3,  7, 15]], dtype=int32)"
      ]
     },
     "execution_count": 3,
     "metadata": {},
     "output_type": "execute_result"
    }
   ],
   "source": [
    "n_rows = 5\n",
    "n_cols = 3\n",
    "\n",
    "arr = np.random.randint(1, 20, size=(n_rows, n_cols))\n",
    "arr"
   ]
  },
  {
   "cell_type": "code",
   "execution_count": 4,
   "id": "a6ab4990",
   "metadata": {},
   "outputs": [
    {
     "data": {
      "text/html": [
       "<div>\n",
       "<style scoped>\n",
       "    .dataframe tbody tr th:only-of-type {\n",
       "        vertical-align: middle;\n",
       "    }\n",
       "\n",
       "    .dataframe tbody tr th {\n",
       "        vertical-align: top;\n",
       "    }\n",
       "\n",
       "    .dataframe thead th {\n",
       "        text-align: right;\n",
       "    }\n",
       "</style>\n",
       "<table border=\"1\" class=\"dataframe\">\n",
       "  <thead>\n",
       "    <tr style=\"text-align: right;\">\n",
       "      <th></th>\n",
       "      <th>A</th>\n",
       "      <th>B</th>\n",
       "      <th>C</th>\n",
       "    </tr>\n",
       "  </thead>\n",
       "  <tbody>\n",
       "    <tr>\n",
       "      <th>0</th>\n",
       "      <td>15</td>\n",
       "      <td>9</td>\n",
       "      <td>12</td>\n",
       "    </tr>\n",
       "    <tr>\n",
       "      <th>1</th>\n",
       "      <td>4</td>\n",
       "      <td>13</td>\n",
       "      <td>11</td>\n",
       "    </tr>\n",
       "    <tr>\n",
       "      <th>2</th>\n",
       "      <td>4</td>\n",
       "      <td>11</td>\n",
       "      <td>19</td>\n",
       "    </tr>\n",
       "    <tr>\n",
       "      <th>3</th>\n",
       "      <td>9</td>\n",
       "      <td>10</td>\n",
       "      <td>1</td>\n",
       "    </tr>\n",
       "    <tr>\n",
       "      <th>4</th>\n",
       "      <td>3</td>\n",
       "      <td>7</td>\n",
       "      <td>15</td>\n",
       "    </tr>\n",
       "  </tbody>\n",
       "</table>\n",
       "</div>"
      ],
      "text/plain": [
       "    A   B   C\n",
       "0  15   9  12\n",
       "1   4  13  11\n",
       "2   4  11  19\n",
       "3   9  10   1\n",
       "4   3   7  15"
      ]
     },
     "execution_count": 4,
     "metadata": {},
     "output_type": "execute_result"
    }
   ],
   "source": [
    "pd.DataFrame(arr, columns=tuple('ABC'))"
   ]
  },
  {
   "cell_type": "code",
   "execution_count": 5,
   "id": "1b64f9b1",
   "metadata": {},
   "outputs": [
    {
     "name": "stdout",
     "output_type": "stream",
     "text": [
      "          A         B         C         D\n",
      "0  0.063091  0.934614 -0.112808 -0.458934\n",
      "1 -0.038165  0.623856 -0.565810  0.520736\n",
      "2  0.979672  0.583360  2.453208 -2.430066\n",
      "3 -0.664239  1.818029 -0.490363 -0.945833\n",
      "4 -0.149500 -0.276115 -1.047700 -0.061635\n"
     ]
    }
   ],
   "source": [
    "n_rows = 30 \n",
    "n_cols = 4 \n",
    "columns = list('ABCD')\n",
    "\n",
    "data = np.random.randn(n_rows, n_cols)\n",
    "\n",
    "df = pd.DataFrame(data, columns=columns)\n",
    "\n",
    "print(df.head())"
   ]
  },
  {
   "cell_type": "code",
   "execution_count": 6,
   "id": "9970491f",
   "metadata": {},
   "outputs": [
    {
     "name": "stdout",
     "output_type": "stream",
     "text": [
      "          A  B          C     D\n",
      "0 -1.448029  1 2024-01-01   foo\n",
      "1 -0.795467  2 2024-01-02   bar\n",
      "2  0.103847  3 2024-01-03   baz\n",
      "3 -0.044435  4 2024-01-04   qux\n",
      "4  1.522764  5 2024-01-05  quux\n"
     ]
    }
   ],
   "source": [
    "n_rows = 5 \n",
    "\n",
    "data = {\n",
    "    'A': np.random.randn(n_rows),                 \n",
    "    'B': np.arange(1, n_rows + 1),                \n",
    "    'C': pd.date_range('2024-01-01', periods=n_rows), \n",
    "    'D': ['foo', 'bar', 'baz', 'qux', 'quux']    \n",
    "}\n",
    "\n",
    "df = pd.DataFrame(data)\n",
    "\n",
    "print(df.head())"
   ]
  },
  {
   "cell_type": "code",
   "execution_count": 7,
   "id": "1c0c58bc",
   "metadata": {},
   "outputs": [
    {
     "name": "stdout",
     "output_type": "stream",
     "text": [
      "                   A         B         C         D\n",
      "2024-01-01 -0.165707  1.144318 -0.002692  0.059353\n",
      "2024-01-02  0.388961  1.092972 -1.407486 -1.050272\n",
      "2024-01-03  1.399326 -0.731320  0.003991  0.766334\n",
      "2024-01-04 -1.231068 -1.255594  0.063026 -0.944063\n",
      "2024-01-05 -0.593995 -0.844381  0.285882 -0.066673\n"
     ]
    }
   ],
   "source": [
    "n_rows = 30  \n",
    "n_cols = 4   \n",
    "columns = list('ABCD')  \n",
    "\n",
    "time_index = pd.date_range(start='2024-01-01', periods=n_rows, freq='D')  \n",
    "\n",
    "df = pd.DataFrame(np.random.randn(n_rows, n_cols), index=time_index, columns=columns)\n",
    "\n",
    "print(df.head())"
   ]
  },
  {
   "cell_type": "code",
   "execution_count": 8,
   "id": "d7573163",
   "metadata": {},
   "outputs": [
    {
     "name": "stdout",
     "output_type": "stream",
     "text": [
      "          A         B         C         D\n",
      "0  0.961145       NaN -0.437458  0.578004\n",
      "1  0.472495 -1.201409 -0.058418  0.562559\n",
      "2  0.976800 -0.022081  2.522157       NaN\n",
      "3  0.222810  1.139713  1.075189  1.338248\n",
      "4       NaN  0.637117 -0.640068 -0.811421\n"
     ]
    }
   ],
   "source": [
    "n_rows = 5\n",
    "n_cols = 4\n",
    "\n",
    "data = np.random.randn(n_rows, n_cols)\n",
    "\n",
    "df = pd.DataFrame(data, columns=list('ABCD'))\n",
    "\n",
    "df.iloc[0, 1] = np.nan\n",
    "df.iloc[2, 3] = np.nan\n",
    "df.iloc[4, 0] = np.nan\n",
    "\n",
    "print(df.head())"
   ]
  }
 ],
 "metadata": {
  "kernelspec": {
   "display_name": "Python 3",
   "language": "python",
   "name": "python3"
  },
  "language_info": {
   "codemirror_mode": {
    "name": "ipython",
    "version": 3
   },
   "file_extension": ".py",
   "mimetype": "text/x-python",
   "name": "python",
   "nbconvert_exporter": "python",
   "pygments_lexer": "ipython3",
   "version": "3.12.6"
  }
 },
 "nbformat": 4,
 "nbformat_minor": 5
}
